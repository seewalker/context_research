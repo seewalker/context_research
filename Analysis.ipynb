{
 "cells": [
  {
   "cell_type": "code",
   "execution_count": null,
   "metadata": {
    "collapsed": false
   },
   "outputs": [],
   "source": [
    "from IPython.display import Image, HTML\n",
    "import matplotlib.pyplot as plt\n",
    "import numpy as np\n",
    "from skimage.io import imread, imsave\n",
    "import seaborn as sns\n",
    "import os\n",
    "import pickle\n",
    "import gzip\n",
    "import pandas as pd\n",
    "from params import params\n",
    "from scipy.stats import entropy\n",
    "%matplotlib inline\n",
    "sns.set_style('white')"
   ]
  },
  {
   "cell_type": "code",
   "execution_count": null,
   "metadata": {
    "collapsed": true
   },
   "outputs": [],
   "source": [
    "# The object graph descriptor.\n",
    "Image( )"
   ]
  },
  {
   "cell_type": "code",
   "execution_count": 2,
   "metadata": {
    "collapsed": false
   },
   "outputs": [
    {
     "name": "stdout",
     "output_type": "stream",
     "text": [
      "2008_004365_2.pkl.gz\n",
      "2008_004624_2.pkl.gz\n",
      "2008_006182_5.pkl.gz\n",
      "2007_009320_5.pkl.gz"
     ]
    },
    {
     "name": "stderr",
     "output_type": "stream",
     "text": [
      "/home/aseewald/anaconda3/lib/python3.5/site-packages/sklearn/utils/fixes.py:64: DeprecationWarning: inspect.getargspec() is deprecated, use inspect.signature() instead\n",
      "  if 'order' in inspect.getargspec(np.copy)[0]:\n",
      "/home/aseewald/anaconda3/lib/python3.5/site-packages/matplotlib/__init__.py:892: UserWarning: axes.color_cycle is deprecated and replaced with axes.prop_cycle; please use the latter.\n",
      "  warnings.warn(self.msg_depr % (key, alt_key))\n"
     ]
    },
    {
     "name": "stdout",
     "output_type": "stream",
     "text": [
      "\n"
     ]
    },
    {
     "data": {
      "image/png": "[encoded data removed]",
      "text/plain": [
       "<matplotlib.figure.Figure at 0x7f0fb26c0198>"
      ]
     },
     "metadata": {},
     "output_type": "display_data"
    }
   ],
   "source": [
    "entropies = pd.DataFrame(columns=['split', 'entropy'])\n",
    "for segname in os.listdir(params.root(\"val_superpixels/\")):\n",
    "    if segname == \".\" or segname == \"..\" or segname == \"2008_005668_5.pkl.gz\": continue\n",
    "    split = segname.split('_')[2].split(\".\")[0]\n",
    "    try:\n",
    "        segs = pickle.loads(gzip.open(params.root(\"val_superpixels/\" + segname), 'rb').read())\n",
    "    except:\n",
    "        print(segname)\n",
    "        continue\n",
    "    for seg in segs:\n",
    "        entropies.loc[-1] = [split, entropy(seg.object_distribution)]\n",
    "        entropies.index += 1\n",
    "\n",
    "sns.violinplot(x='split', y='entropy', data=entropies)\n",
    "plt.savefig(params.root(\"results/entropy_distribution\"))\n",
    "plt.show()"
   ]
  },
  {
   "cell_type": "code",
   "execution_count": null,
   "metadata": {
    "collapsed": true
   },
   "outputs": [],
   "source": [
    "# The performance of the CNNs over time\n",
    "Image(filename=\"/home/aseewald/data/VOC2008/results/cnn_acc_vs_iter.png\")"
   ]
  },
  {
   "cell_type": "code",
   "execution_count": 25,
   "metadata": {
    "collapsed": false
   },
   "outputs": [],
   "source": [
    "# make the video\n",
    "frames = []\n",
    "for imageName:\n",
    "    for split in :\n",
    "        # make a frame saying \"split number: \"\n",
    "    for scale in :\n",
    "        subprocess.call([\"convert\"]) #join the images side by side\n",
    "        frames.append( )\n",
    "subprocess.call([\"ffmpeg\", \".mp4\"]) # run this on the frames"
   ]
  },
  {
   "cell_type": "code",
   "execution_count": null,
   "metadata": {
    "collapsed": true
   },
   "outputs": [],
   "source": [
    "# display the video\n",
    "HTML(\"\"\"\n",
    "<video width=\"320\" height=\"240\" controls>\n",
    "  <source src=\"\" type=\"video/mp4\">\n",
    "</video>\n",
    "\"\"\")"
   ]
  },
  {
   "cell_type": "code",
   "execution_count": 87,
   "metadata": {
    "collapsed": false
   },
   "outputs": [
    {
     "name": "stdout",
     "output_type": "stream",
     "text": [
      "pyramid_4_1.6\n",
      "var_4_1.6\n",
      "randomly_4_1.6\n",
      "quadrants_4_1.6\n",
      "siamese_4_1.6\n",
      "texton_4_1.6\n",
      "randomly_6_1.35\n",
      "pyramid_6_1.35\n",
      "texton_6_1.35\n",
      "quadrants_6_1.35\n",
      "var_6_1.35\n",
      "siamese_6_1.35\n",
      "pyramid_6_1.4\n",
      "texton_6_1.4\n",
      "siamese_6_1.4\n",
      "above_below_4_1.6\n",
      "above_below_6_1.35\n",
      "var_closest_4_1.6\n",
      "var_closest_6_1.35\n",
      "var_closest_tas_4_1.6\n",
      "var_closest_tas_6_1.35\n",
      "left_right_4_1.6\n",
      "left_right_6_1.35\n",
      "var_rotated_4_1.6\n",
      "var_rotated_6_1.35\n",
      "var_rotated_tas_4_1.6\n",
      "var_rotated_tas_6_1.35\n",
      "var_tas_4_1.6\n",
      "var_tas_6_1.35\n"
     ]
    }
   ],
   "source": [
    "from itertools import groupby\n",
    "import random\n",
    "\n",
    "xs = os.listdir(\"/home/aseewald/data/VOC2008/kernels/\")\n",
    "xs.sort(key=lambda x: x.split('_')[1:])\n",
    "for k,g in groupby(xs, lambda x: x.split('_')[-2:] ):\n",
    "    splitid, ent = k\n",
    "    for kernname in g:\n",
    "        print(kernname)"
   ]
  },
  {
   "cell_type": "code",
   "execution_count": 14,
   "metadata": {
    "collapsed": false
   },
   "outputs": [
    {
     "name": "stdout",
     "output_type": "stream",
     "text": [
      "above_below_1.52_40\n",
      "left_right_1.52_40\n",
      "pyramid_1.52_40\n",
      "quadrants_1.52_40\n",
      "randomly_1.52_40\n",
      "siamese_1.52_40\n",
      "texton_1.52_40\n",
      "var_1.52_40\n",
      "var_closest_1.52_40\n",
      "var_closest_tas_1.52_40\n",
      "var_rotated_1.52_40\n",
      "var_rotated_tas_1.52_40\n",
      "var_tas_1.52_40\n"
     ]
    }
   ],
   "source": [
    "purities = pickle.load(open(params.root(\"purities/purity.pkl\"),'rb'))"
   ]
  },
  {
   "cell_type": "code",
   "execution_count": 9,
   "metadata": {
    "collapsed": false
   },
   "outputs": [
    {
     "data": {
      "text/html": [
       "<div>\n",
       "<table border=\"1\" class=\"dataframe\">\n",
       "  <thead>\n",
       "    <tr style=\"text-align: right;\">\n",
       "      <th></th>\n",
       "      <th>splitid</th>\n",
       "      <th>seg_entropy</th>\n",
       "      <th>k_type</th>\n",
       "      <th>num_clusters</th>\n",
       "      <th>purity</th>\n",
       "    </tr>\n",
       "  </thead>\n",
       "  <tbody>\n",
       "  </tbody>\n",
       "</table>\n",
       "</div>"
      ],
      "text/plain": [
       "Empty DataFrame\n",
       "Columns: [splitid, seg_entropy, k_type, num_clusters, purity]\n",
       "Index: []"
      ]
     },
     "execution_count": 9,
     "metadata": {},
     "output_type": "execute_result"
    }
   ],
   "source": [
    "baseline_data = purities[purities['k_type'].isin(['above_below', 'left_right', 'randomly','quadrants','var'])]\n",
    "g = sns.FacetGrid(baseline_data, row='seg_entropy', column='seg_entropy', margin_titles=True)\n",
    "g.map(sns.regplot, \"num_clusters\", \"purity\", color=\"k_type\", fit_reg=False)\n",
    "g.add_legend()"
   ]
  },
  {
   "cell_type": "code",
   "execution_count": null,
   "metadata": {
    "collapsed": true
   },
   "outputs": [],
   "source": [
    "# plot above_below, left_right, quadrants, and randomly\n",
    "purities = pickle.load(open(params.root(\"purities/vas_tas_1.52_40\"), 'rb'))"
   ]
  },
  {
   "cell_type": "code",
   "execution_count": null,
   "metadata": {
    "collapsed": true
   },
   "outputs": [],
   "source": []
  }
 ],
 "metadata": {
  "kernelspec": {
   "display_name": "Python 3",
   "language": "python",
   "name": "python3"
  },
  "language_info": {
   "codemirror_mode": {
    "name": "ipython",
    "version": 3
   },
   "file_extension": ".py",
   "mimetype": "text/x-python",
   "name": "python",
   "nbconvert_exporter": "python",
   "pygments_lexer": "ipython3",
   "version": "3.5.1"
  }
 },
 "nbformat": 4,
 "nbformat_minor": 0
}
